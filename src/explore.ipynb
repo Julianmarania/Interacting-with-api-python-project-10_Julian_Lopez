{
    "cells": [
        {
            "cell_type": "markdown",
            "metadata": {},
            "source": [
                "# Explore here"
            ]
        },
        {
            "cell_type": "code",
            "execution_count": null,
            "metadata": {},
            "outputs": [
                {
                    "data": {
                        "text/plain": [
                            "True"
                        ]
                    },
                    "execution_count": 1,
                    "metadata": {},
                    "output_type": "execute_result"
                }
            ],
            "source": [
                "import os\n",
                "import pandas as pd\n",
                "import seaborn as sns\n",
                "from dotenv import load_dotenv\n",
                "import spotipy as sp\n",
                "\n",
                "# load the .env file variables\n",
                "load_dotenv()"
            ]
        },
        {
            "cell_type": "code",
            "execution_count": null,
            "metadata": {},
            "outputs": [
                {
                    "name": "stdout",
                    "output_type": "stream",
                    "text": [
                        "{'display_name': 'Juli', 'external_urls': {'spotify': 'https://open.spotify.com/user/31alfumzjuneu7fbylgjcfpdedd4'}, 'followers': {'href': None, 'total': 0}, 'href': 'https://api.spotify.com/v1/users/31alfumzjuneu7fbylgjcfpdedd4', 'id': '31alfumzjuneu7fbylgjcfpdedd4', 'images': [], 'type': 'user', 'uri': 'spotify:user:31alfumzjuneu7fbylgjcfpdedd4'}\n"
                    ]
                }
            ],
            "source": [
                "from spotipy.oauth2 import SpotifyOAuth  # Este es el método recomendado para conectarse a la API de Spotify utilizando autenticación OAuth.\n",
                "\n",
                "my_client_id = os.environ.get(\"CLIENT_ID\")\n",
                "my_client_secret = os.environ.get(\"CLIENT_SECRET\")\n",
                "my_redirect_URI = \"http://localhost:8000\"  # Aqui pongo la localhost que agregué en el panel de desarrolladores de Spotify.\n",
                "\n",
                "# Crear una instancia de SpotifyOAuth para la autenticación.\n",
                "sp = sp.Spotify(auth_manager=SpotifyOAuth(client_id = my_client_id,\n",
                "                                               client_secret = my_client_secret,\n",
                "                                               redirect_uri = my_redirect_URI,\n",
                "                                               scope=[\"user-library-read\"]))\n",
                "\n",
                "user_info = sp.current_user()  # Comprobar pidiendo mi información de usuari de la API si estoy bien conectado a ella.\n",
                "print(user_info)"
            ]
        },
        {
            "cell_type": "code",
            "execution_count": 6,
            "metadata": {},
            "outputs": [
                {
                    "name": "stdout",
                    "output_type": "stream",
                    "text": [
                        "                  Names  Duration(min)  Popularity\n",
                        "Nº 1               DtMF           3.95          95\n",
                        "Nº 2  BAILE INoLVIDABLE           6.13          93\n",
                        "Nº 3           NUEVAYoL           3.06          92\n"
                    ]
                }
            ],
            "source": [
                "info_bad_bunny = sp.artist_top_tracks( '4q3ewBCX7sLwd24euuV69X' , country = 'US' ) # Función para solicitar a la API el top 10 tracks por artista.\n",
                "\n",
                "top_tracks = info_bad_bunny['tracks'] # Filtro los tracks\n",
                "track_names = []\n",
                "track_duration_ms = []\n",
                "track_popularity = []\n",
                "\n",
                "for track in top_tracks[:3]: # Bucle que recorra los tresprimeros tracks y me devuelva nombre, etc...\n",
                "    track_names.append(track['name'])\n",
                "    track_duration_ms.append(track['duration_ms'])\n",
                "    track_popularity.append(track['popularity'])\n",
                "\n",
                "# Convertir la duración de ms a minutos y redondearla a dos decimales.\n",
                "track_duration_min = [round(duration / 60000, 2) for duration in track_duration_ms]\n",
                "\n",
                "# Pasar todo a un dataframe\n",
                "\n",
                "data_frame = pd.DataFrame({ \n",
                "    'Names': track_names,\n",
                "'Duration(min)': track_duration_min,\n",
                "'Popularity': track_popularity\n",
                "}, index = ['Nº 1', 'Nº 2', 'Nº 3'])\n",
                "print(data_frame)"
            ]
        },
        {
            "cell_type": "code",
            "execution_count": 7,
            "metadata": {},
            "outputs": [
                {
                    "name": "stdout",
                    "output_type": "stream",
                    "text": [
                        "                  Names  Duration(min)  Popularity\n",
                        "0                  DtMF           3.95          95\n",
                        "1     BAILE INoLVIDABLE           6.13          93\n",
                        "2              NUEVAYoL           3.06          92\n",
                        "3  VOY A LLeVARTE PA PR           2.61          91\n",
                        "4                 VeLDÁ           3.92          90\n",
                        "5                   EoO           3.41          89\n",
                        "6        Qué Pasaría...           3.18          88\n",
                        "7               WELTiTA           3.13          88\n",
                        "8               EL CLúB           3.71          85\n",
                        "9             KLOuFRENS           3.32          87\n"
                    ]
                },
                {
                    "data": {
                        "image/png": "[encoded data removed]",
                        "text/plain": [
                            "<Figure size 640x480 with 1 Axes>"
                        ]
                    },
                    "metadata": {},
                    "output_type": "display_data"
                },
                {
                    "name": "stdout",
                    "output_type": "stream",
                    "text": [
                        "Al analizar la relación estadística entre la popularidad y la duración de las canciones (He hecho el analisis de las 10 mejores para que \n",
                        "el resultado sea mas amplio y real) podemos obserbar que el timepo de duracion de una cancion no es relwevante a la hora de obtener o no \n",
                        "mayor popularidad en la industria musical. Para ello tambien podriamos realizar un hypothesis testing con una cantidad mayor de muestras\n",
                        "y de ahi sacar conclusiones. \n"
                    ]
                }
            ],
            "source": [
                "# A partir de aqui creo otro Dataframe pero con el top 10 de las canciones, para que a la hora de analizar la relación estadistica, con su correspondiente scatter plot, la conclusion sea más real\n",
                "import matplotlib.pyplot as plt\n",
                "\n",
                "info_bad_bunny = sp.artist_top_tracks( '4q3ewBCX7sLwd24euuV69X' , country = 'US' )\n",
                "\n",
                "top_tracks = info_bad_bunny['tracks']\n",
                "track_names = []\n",
                "track_duration_ms = []\n",
                "track_popularity = []\n",
                "\n",
                "for track in top_tracks:\n",
                "    track_names.append(track['name'])\n",
                "    track_duration_ms.append(track['duration_ms'])\n",
                "    track_popularity.append(track['popularity'])\n",
                "\n",
                "# Convertir la duración de ms a minutos y redondearla a dos decimales. \n",
                "track_duration_min = [round(duration / 60000, 2) for duration in track_duration_ms]\n",
                "\n",
                "data_frame = pd.DataFrame({\n",
                "    'Names': track_names,\n",
                "'Duration(min)': track_duration_min,\n",
                "'Popularity': track_popularity\n",
                "})\n",
                "print(data_frame)\n",
                "\n",
                "\n",
                "plt.scatter(data_frame['Duration(min)'], data_frame['Popularity'])\n",
                "plt.xlabel('Duration(min)')\n",
                "plt.ylabel('Popularity')\n",
                "plt.title('Popularity vs Duration of Tracks')\n",
                "\n",
                "# Mostrar los nombres de las canciones en los puntos del gráfico\n",
                "for i, name in enumerate(data_frame['Names']):\n",
                "    plt.text(data_frame['Duration(min)'][i], data_frame['Popularity'][i], name, fontsize=8)\n",
                "\n",
                "plt.show()\n",
                "\n",
                "print(f'''Al analizar la relación estadística entre la popularidad y la duración de las canciones (He hecho el analisis de las 10 mejores para que \n",
                "el resultado sea mas amplio y real) podemos obserbar que el timepo de duracion de una cancion no es relwevante a la hora de obtener o no \n",
                "mayor popularidad en la industria musical. Para ello tambien podriamos realizar un hypothesis testing con una cantidad mayor de muestras\n",
                "y de ahi sacar conclusiones. ''')"
            ]
        }
    ],
    "metadata": {
        "kernelspec": {
            "display_name": "Python 3",
            "language": "python",
            "name": "python3"
        },
        "language_info": {
            "codemirror_mode": {
                "name": "ipython",
                "version": 3
            },
            "file_extension": ".py",
            "mimetype": "text/x-python",
            "name": "python",
            "nbconvert_exporter": "python",
            "pygments_lexer": "ipython3",
            "version": "3.13.1"
        },
        "orig_nbformat": 4
    },
    "nbformat": 4,
    "nbformat_minor": 2
}
