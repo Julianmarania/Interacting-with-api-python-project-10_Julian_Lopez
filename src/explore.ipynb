{
    "cells": [
        {
            "cell_type": "markdown",
            "metadata": {},
            "source": [
                "# Explore here"
            ]
        },
        {
            "cell_type": "code",
            "execution_count": 25,
            "metadata": {},
            "outputs": [
                {
                    "data": {
                        "text/plain": [
                            "True"
                        ]
                    },
                    "execution_count": 25,
                    "metadata": {},
                    "output_type": "execute_result"
                }
            ],
            "source": [
                "import os\n",
                "import pandas as pd\n",
                "import seaborn as sns\n",
                "from dotenv import load_dotenv\n",
                "import spotipy as sp\n",
                "\n",
                "# load the .env file variables\n",
                "load_dotenv()\n",
                "\n",
                "\n",
                "\n"
            ]
        },
        {
            "cell_type": "code",
            "execution_count": 26,
            "metadata": {},
            "outputs": [
                {
                    "name": "stdout",
                    "output_type": "stream",
                    "text": [
                        "{'display_name': 'Juli', 'external_urls': {'spotify': 'https://open.spotify.com/user/31alfumzjuneu7fbylgjcfpdedd4'}, 'followers': {'href': None, 'total': 0}, 'href': 'https://api.spotify.com/v1/users/31alfumzjuneu7fbylgjcfpdedd4', 'id': '31alfumzjuneu7fbylgjcfpdedd4', 'images': [], 'type': 'user', 'uri': 'spotify:user:31alfumzjuneu7fbylgjcfpdedd4'}\n"
                    ]
                }
            ],
            "source": [
                "from spotipy.oauth2 import SpotifyOAuth  # Este es el método recomendado para conectarse a la API de Spotify utilizando autenticación OAuth\n",
                "\n",
                "my_client_id = os.environ.get(\"CLIENT_ID\")\n",
                "my_client_secret = os.environ.get(\"CLIENT_SECRET\")\n",
                "my_redirect_URI = \"http://localhost:8000\"  # Aqui pongo la localhost que agregué en el panel de desarrolladores de Spotify.\n",
                "\n",
                "# Crear una instancia de SpotifyOAuth para la autenticación\n",
                "sp = sp.Spotify(auth_manager=SpotifyOAuth(client_id = my_client_id,\n",
                "                                               client_secret = my_client_secret,\n",
                "                                               redirect_uri = my_redirect_URI,\n",
                "                                               scope=[\"user-library-read\"]))\n",
                "\n",
                "user_info = sp.current_user()\n",
                "print(user_info)"
            ]
        },
        {
            "cell_type": "code",
            "execution_count": 30,
            "metadata": {},
            "outputs": [
                {
                    "name": "stdout",
                    "output_type": "stream",
                    "text": [
                        "                  Names  Duration  Popularity\n",
                        "Nº 1               DtMF    237117          96\n",
                        "Nº 2  BAILE INoLVIDABLE    367725          93\n",
                        "Nº 3           NUEVAYoL    183685          92\n"
                    ]
                }
            ],
            "source": [
                "info_bad_bunny = sp.artist_top_tracks( '4q3ewBCX7sLwd24euuV69X' , country = 'US' )\n",
                "\n",
                "top_tracks = info_bad_bunny['tracks']\n",
                "track_names = []\n",
                "track_duration_ms = []\n",
                "track_popularity = []\n",
                "\n",
                "for track in top_tracks[:3]:\n",
                "    track_names.append(track['name'])\n",
                "    track_duration_ms.append(track['duration_ms'])\n",
                "    track_popularity.append(track['popularity'])\n",
                "\n",
                "\n",
                "data_frame = pd.DataFrame({\n",
                "    'Names': track_names,\n",
                "'Duration': track_duration_ms,\n",
                "'Popularity': track_popularity\n",
                "}, index = ['Nº 1', 'Nº 2', 'Nº 3'])\n",
                "print(data_frame)"
            ]
        },
        {
            "cell_type": "code",
            "execution_count": null,
            "metadata": {},
            "outputs": [],
            "source": []
        }
    ],
    "metadata": {
        "kernelspec": {
            "display_name": "Python 3",
            "language": "python",
            "name": "python3"
        },
        "language_info": {
            "codemirror_mode": {
                "name": "ipython",
                "version": 3
            },
            "file_extension": ".py",
            "mimetype": "text/x-python",
            "name": "python",
            "nbconvert_exporter": "python",
            "pygments_lexer": "ipython3",
            "version": "3.13.1"
        },
        "orig_nbformat": 4
    },
    "nbformat": 4,
    "nbformat_minor": 2
}
